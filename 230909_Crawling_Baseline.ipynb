{
  "nbformat": 4,
  "nbformat_minor": 0,
  "metadata": {
    "colab": {
      "provenance": []
    },
    "kernelspec": {
      "name": "python3",
      "display_name": "Python 3"
    },
    "language_info": {
      "name": "python"
    }
  },
  "cells": [
    {
      "cell_type": "code",
      "execution_count": 13,
      "metadata": {
        "id": "gHEN7O1lBspQ"
      },
      "outputs": [],
      "source": [
        "from bs4 import BeautifulSoup\n",
        "from datetime import datetime\n",
        "from tqdm import tqdm\n",
        "import pandas as pd\n",
        "import requests\n",
        "import time"
      ]
    },
    {
      "cell_type": "code",
      "source": [
        "title_lst = []\n",
        "date_lst = []\n",
        "\n",
        "for n in tqdm(range(1,10)):\n",
        "    link = f'https://land.naver.com/news/region.naver?city_no=1100000000&dvsn_no=1114000000&page={n}'\n",
        "    url = requests.get(link)\n",
        "    html = BeautifulSoup(url.text)\n",
        "    news = html.find('div', attrs = {'class':'section_headline'})\n",
        "    dl_tag = news.find_all('dl')\n",
        "\n",
        "    for dl_tags in dl_tag:\n",
        "        try:\n",
        "            title = dl_tags.find('dt', class_ = 'photo').find_next('dt').find('a').text\n",
        "        except:\n",
        "            title = dl_tags.find('dt').text\n",
        "        title_lst.append(title)\n",
        "\n",
        "        date = dl_tags.find('span', class_ = 'date').text\n",
        "        date_lst.append(date)\n",
        "\n",
        "    if pd.to_datetime(date) <= datetime(2021,1,1):\n",
        "        break"
      ],
      "metadata": {
        "colab": {
          "base_uri": "https://localhost:8080/"
        },
        "id": "bZTyQ1YfJhOr",
        "outputId": "944c66b4-69cf-41e7-ba57-d44d6f4817b0"
      },
      "execution_count": 32,
      "outputs": [
        {
          "output_type": "stream",
          "name": "stderr",
          "text": [
            " 33%|███▎      | 3/9 [00:04<00:08,  1.44s/it]\n"
          ]
        }
      ]
    }
  ]
}